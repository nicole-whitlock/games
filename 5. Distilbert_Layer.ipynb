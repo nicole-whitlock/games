{
  "cells": [
    {
      "cell_type": "markdown",
      "metadata": {
        "id": "view-in-github",
        "colab_type": "text"
      },
      "source": [
        "<a href=\"https://colab.research.google.com/github/nicole-whitlock/games/blob/main/Distilbert_Layer.ipynb\" target=\"_parent\"><img src=\"https://colab.research.google.com/assets/colab-badge.svg\" alt=\"Open In Colab\"/></a>"
      ]
    },
    {
      "cell_type": "code",
      "execution_count": 49,
      "id": "febdd4b8-80f9-4410-9e01-0333233a3e0e",
      "metadata": {
        "id": "febdd4b8-80f9-4410-9e01-0333233a3e0e"
      },
      "outputs": [],
      "source": [
        "import pandas as pd\n",
        "\n",
        "import matplotlib.pyplot as plt\n",
        "from tqdm import tqdm\n",
        "import tensorflow as tf\n",
        "import re\n",
        "from sklearn.metrics import confusion_matrix\n",
        "import joblib\n",
        "from sklearn.metrics import classification_report\n",
        "\n",
        "from sklearn.model_selection import train_test_split\n",
        "import seaborn as sns\n",
        "\n",
        "from transformers import  DistilBertForSequenceClassification, TFDistilBertModel, DistilBertTokenizer, TFDistilBertForSequenceClassification\n",
        "import numpy as np"
      ]
    },
    {
      "cell_type": "code",
      "source": [
        "    import torch\n",
        "\n",
        "    if torch.cuda.is_available():\n",
        "        device = torch.device('cuda')\n",
        "    else:\n",
        "        device = torch.device('cpu')"
      ],
      "metadata": {
        "id": "a4-slP0F9yT5"
      },
      "id": "a4-slP0F9yT5",
      "execution_count": 5,
      "outputs": []
    },
    {
      "cell_type": "code",
      "execution_count": 10,
      "id": "15c270a1-53fe-4b71-bd42-9b2f9190057f",
      "metadata": {
        "id": "15c270a1-53fe-4b71-bd42-9b2f9190057f"
      },
      "outputs": [],
      "source": [
        "# from google.colab import drive\n",
        "# drive.mount('/content/drive/')"
      ]
    },
    {
      "cell_type": "code",
      "source": [
        "df = pd.read_csv('/content/english_reviews.csv')\n"
      ],
      "metadata": {
        "id": "AopNnO3T-BTX"
      },
      "id": "AopNnO3T-BTX",
      "execution_count": 8,
      "outputs": []
    },
    {
      "cell_type": "code",
      "source": [
        "df.shape"
      ],
      "metadata": {
        "colab": {
          "base_uri": "https://localhost:8080/"
        },
        "id": "20wDp1vEMvKd",
        "outputId": "f41c0b23-eecb-48db-ba48-f49556ad11a5"
      },
      "id": "20wDp1vEMvKd",
      "execution_count": 9,
      "outputs": [
        {
          "output_type": "execute_result",
          "data": {
            "text/plain": [
              "(1480220, 9)"
            ]
          },
          "metadata": {},
          "execution_count": 9
        }
      ]
    },
    {
      "cell_type": "code",
      "source": [
        "# Create 3 sentiment categories\n",
        "df['sentiment'] = np.where(\n",
        "    df['score'] >= 70, 'positive',\n",
        "    np.where(df['score'] <= 40, 'negative', 'neutral')\n",
        ")"
      ],
      "metadata": {
        "id": "-NMm2y8nD-2A"
      },
      "id": "-NMm2y8nD-2A",
      "execution_count": 20,
      "outputs": []
    },
    {
      "cell_type": "code",
      "execution_count": 21,
      "id": "a5854965-6a12-41d4-87ad-37403a8f5df7",
      "metadata": {
        "id": "a5854965-6a12-41d4-87ad-37403a8f5df7"
      },
      "outputs": [],
      "source": [
        "def clean_whitespace(text):\n",
        "    # Remove leading/trailing spaces and collapse multiple spaces into one\n",
        "    return re.sub(r'\\s+', ' ', text.strip())\n",
        "\n",
        "df['quote'] = df['quote'].apply(clean_whitespace)"
      ]
    },
    {
      "cell_type": "code",
      "execution_count": null,
      "id": "10a62cdb-e15f-4269-9069-e8387d7c97f7",
      "metadata": {
        "id": "10a62cdb-e15f-4269-9069-e8387d7c97f7"
      },
      "outputs": [],
      "source": [
        "tokenizer = DistilBertTokenizer.from_pretrained('distilbert-base-uncased')"
      ]
    },
    {
      "cell_type": "code",
      "source": [
        "MAX_LEN = 128\n",
        "\n",
        "def tokenize_optimized(data, max_len=MAX_LEN, batch_size=1000):\n",
        "    input_ids_list = []\n",
        "    attention_mask_list = []\n",
        "\n",
        "    # Process in batches with progress bar\n",
        "    for i in tqdm(range(0, len(data), batch_size)):\n",
        "        batch = data[i:i + batch_size]\n",
        "        encoded = tokenizer.batch_encode_plus(\n",
        "            batch,\n",
        "            add_special_tokens=True,\n",
        "            max_length=max_len,\n",
        "            padding='max_length',\n",
        "            truncation=True,\n",
        "            return_attention_mask=True,\n",
        "            return_tensors='tf'\n",
        "        )\n",
        "\n",
        "        input_ids_list.append(encoded['input_ids'].numpy())\n",
        "        attention_mask_list.append(encoded['attention_mask'].numpy())\n",
        "\n",
        "    # Concatenate batches\n",
        "    input_ids = np.vstack(input_ids_list)\n",
        "    attention_mask = np.vstack(attention_mask_list)\n",
        "\n",
        "    return input_ids, attention_mask"
      ],
      "metadata": {
        "id": "xEzYGr82-1Sq"
      },
      "id": "xEzYGr82-1Sq",
      "execution_count": 16,
      "outputs": []
    },
    {
      "cell_type": "code",
      "execution_count": 17,
      "id": "47da074e-91b4-466e-8994-7ca11f1575c0",
      "metadata": {
        "id": "47da074e-91b4-466e-8994-7ca11f1575c0"
      },
      "outputs": [],
      "source": [
        "data_quotes = df['quote'].tolist()\n",
        "data_sentiments = df['sentiment'].tolist()"
      ]
    },
    {
      "cell_type": "code",
      "execution_count": 18,
      "id": "5fa4199b-fe4b-44c0-9f93-3e3a96b9f036",
      "metadata": {
        "id": "5fa4199b-fe4b-44c0-9f93-3e3a96b9f036"
      },
      "outputs": [],
      "source": [
        "train_quotes, test_quotes, train_scores, test_scores = train_test_split(\n",
        "    data_quotes, data_sentiments, test_size= 0.2, random_state = 42)\n",
        "    # stratify=scores)\n",
        "\n",
        "\n",
        "train_quotes, val_quotes, train_scores, val_scores = train_test_split(\n",
        "    train_quotes, train_scores, test_size= 0.2, random_state = 42)\n",
        "    # stratify=scores)"
      ]
    },
    {
      "cell_type": "code",
      "execution_count": null,
      "id": "c1514e59-2602-4295-a8b2-ecd854515990",
      "metadata": {
        "id": "c1514e59-2602-4295-a8b2-ecd854515990"
      },
      "outputs": [],
      "source": [
        "input_ids,attention_mask = tokenize_optimized(train_quotes,max_len = MAX_LEN)\n",
        "val_input_ids,val_attention_mask = tokenize_optimized(val_quotes,max_len = MAX_LEN)"
      ]
    },
    {
      "cell_type": "code",
      "source": [
        "sentiment_mapping = {\n",
        "    'negative': 0,\n",
        "    'neutral': 1,\n",
        "    'positive': 2\n",
        "}\n",
        "\n",
        "# Create a function to apply the mapping\n",
        "def map_sentiment(sentiment):\n",
        "    return sentiment_mapping.get(sentiment)\n",
        "\n",
        "# Apply the mapping to your labels\n",
        "train_labels = np.array([map_sentiment(sentiment) for sentiment in train_scores])\n",
        "val_labels = np.array([map_sentiment(sentiment) for sentiment in val_scores])\n",
        "test_labels = np.array([map_sentiment(sentiment) for sentiment in test_scores])"
      ],
      "metadata": {
        "id": "msQes_5JSfvR"
      },
      "id": "msQes_5JSfvR",
      "execution_count": 27,
      "outputs": []
    },
    {
      "cell_type": "code",
      "execution_count": 28,
      "id": "45f38997-e8f4-4743-975e-be90dcd1fc83",
      "metadata": {
        "id": "45f38997-e8f4-4743-975e-be90dcd1fc83"
      },
      "outputs": [],
      "source": [
        "train_dataset = tf.data.Dataset.from_tensor_slices((\n",
        "    {'input_ids': input_ids, 'attention_mask': attention_mask},\n",
        "    train_labels\n",
        "))\n",
        "train_dataset = train_dataset.shuffle(100).batch(16)"
      ]
    },
    {
      "cell_type": "code",
      "execution_count": 29,
      "id": "99986f50-41db-405a-9729-2523144573d0",
      "metadata": {
        "id": "99986f50-41db-405a-9729-2523144573d0"
      },
      "outputs": [],
      "source": [
        "val_dataset = tf.data.Dataset.from_tensor_slices((\n",
        "    {'input_ids': val_input_ids, 'attention_mask': val_attention_mask},\n",
        "    val_labels\n",
        "))\n",
        "val_dataset = val_dataset.batch(16)"
      ]
    },
    {
      "cell_type": "code",
      "source": [],
      "metadata": {
        "id": "2wX67Z_tmVpH"
      },
      "id": "2wX67Z_tmVpH",
      "execution_count": null,
      "outputs": []
    },
    {
      "cell_type": "code",
      "execution_count": 30,
      "id": "a6af67e1-6145-4b57-80d7-f9ae06a5e80d",
      "metadata": {
        "id": "a6af67e1-6145-4b57-80d7-f9ae06a5e80d"
      },
      "outputs": [],
      "source": [
        "class DistilBertLayer(tf.keras.layers.Layer):\n",
        "    def __init__(self, bert_model, **kwargs):\n",
        "        super(DistilBertLayer, self).__init__(**kwargs)\n",
        "        self.bert_model = bert_model\n",
        "\n",
        "    def call(self, inputs):\n",
        "        input_ids, attention_mask = inputs\n",
        "        # Call the TFDistilBertModel within the call method\n",
        "        bert_output = self.bert_model(input_ids, attention_mask=attention_mask, return_dict=True)\n",
        "        return bert_output[\"last_hidden_state\"]\n",
        "\n",
        "# Create model function\n",
        "def create_model(bert_model, max_len=MAX_LEN, num_classes=3):\n",
        "    # Define inputs\n",
        "    input_ids = tf.keras.Input(shape=(max_len,), dtype='int32', name='input_ids')\n",
        "    attention_masks = tf.keras.Input(shape=(max_len,), dtype='int32', name='attention_mask')\n",
        "\n",
        "    # BERT layer\n",
        "    bert_output = DistilBertLayer(bert_model)([input_ids, attention_masks])\n",
        "\n",
        "    # Global average pooling\n",
        "    pooled_output = tf.keras.layers.GlobalAveragePooling1D()(bert_output)\n",
        "\n",
        "    #Ddropout for regularization\n",
        "    dropout = tf.keras.layers.Dropout(0.3)(pooled_output)\n",
        "\n",
        "    # Output layer\n",
        "    output = tf.keras.layers.Dense(num_classes, activation='softmax')(dropout)\n",
        "\n",
        "    # Create model\n",
        "    model = tf.keras.models.Model(inputs=[input_ids, attention_masks], outputs=output)\n",
        "\n",
        "    # Compile model\n",
        "    model.compile(\n",
        "        optimizer=tf.keras.optimizers.Adam(learning_rate=2e-5),\n",
        "        loss=\"sparse_categorical_crossentropy\",\n",
        "        metrics=[\"accuracy\"]\n",
        "    )\n",
        "\n",
        "    return model\n"
      ]
    },
    {
      "cell_type": "code",
      "source": [
        "base_model = TFDistilBertModel.from_pretrained('distilbert-base-uncased')\n",
        "model = create_model(base_model)\n",
        "\n",
        "callbacks = [\n",
        "    tf.keras.callbacks.EarlyStopping(\n",
        "        monitor='val_accuracy',\n",
        "        patience=2,\n",
        "        restore_best_weights=True)]\n",
        "\n",
        "history = model.fit(\n",
        "    train_dataset,\n",
        "    validation_data=val_dataset,\n",
        "    epochs=10,\n",
        "    callbacks=callbacks\n",
        ")\n",
        "\n"
      ],
      "metadata": {
        "colab": {
          "base_uri": "https://localhost:8080/"
        },
        "id": "jVXgFMrh7YR5",
        "outputId": "d8515330-3d97-413f-88d0-d3a2e8f1718b"
      },
      "id": "jVXgFMrh7YR5",
      "execution_count": 31,
      "outputs": [
        {
          "metadata": {
            "tags": null
          },
          "name": "stderr",
          "output_type": "stream",
          "text": [
            "Some weights of the PyTorch model were not used when initializing the TF 2.0 model TFDistilBertModel: ['vocab_layer_norm.bias', 'vocab_projector.bias', 'vocab_transform.weight', 'vocab_layer_norm.weight', 'vocab_transform.bias']\n",
            "- This IS expected if you are initializing TFDistilBertModel from a PyTorch model trained on another task or with another architecture (e.g. initializing a TFBertForSequenceClassification model from a BertForPreTraining model).\n",
            "- This IS NOT expected if you are initializing TFDistilBertModel from a PyTorch model that you expect to be exactly identical (e.g. initializing a TFBertForSequenceClassification model from a BertForSequenceClassification model).\n",
            "All the weights of TFDistilBertModel were initialized from the PyTorch model.\n",
            "If your task is similar to the task the model of the checkpoint was trained on, you can already use TFDistilBertModel for predictions without further training.\n"
          ]
        },
        {
          "output_type": "stream",
          "name": "stdout",
          "text": [
            "Epoch 1/10\n",
            "59209/59209 [==============================] - 2055s 34ms/step - loss: 0.3759 - accuracy: 0.8513 - val_loss: 0.3457 - val_accuracy: 0.8645\n",
            "Epoch 2/10\n",
            "59209/59209 [==============================] - 1998s 34ms/step - loss: 0.3137 - accuracy: 0.8767 - val_loss: 0.3528 - val_accuracy: 0.8651\n",
            "Epoch 3/10\n",
            "59209/59209 [==============================] - 1996s 34ms/step - loss: 0.2696 - accuracy: 0.8953 - val_loss: 0.3732 - val_accuracy: 0.8622\n",
            "Epoch 4/10\n",
            "59209/59209 [==============================] - 1995s 34ms/step - loss: 0.2289 - accuracy: 0.9126 - val_loss: 0.4145 - val_accuracy: 0.8575\n"
          ]
        }
      ]
    },
    {
      "cell_type": "code",
      "source": [],
      "metadata": {
        "id": "C54FiRv8JfOp"
      },
      "id": "C54FiRv8JfOp",
      "execution_count": null,
      "outputs": []
    },
    {
      "cell_type": "code",
      "source": [
        "model.save_weights('distilbert_layer_sentiment_weights.h5')"
      ],
      "metadata": {
        "id": "KdUcjvlYETH0"
      },
      "id": "KdUcjvlYETH0",
      "execution_count": 52,
      "outputs": []
    },
    {
      "cell_type": "code",
      "source": [
        "test_input_ids,test_attention_mask = tokenize_optimized(test_quotes,max_len = MAX_LEN)"
      ],
      "metadata": {
        "id": "maHY6-FjgZRS"
      },
      "id": "maHY6-FjgZRS",
      "execution_count": null,
      "outputs": []
    },
    {
      "cell_type": "code",
      "source": [
        "test_dataset = tf.data.Dataset.from_tensor_slices((\n",
        "    {'input_ids': test_input_ids, 'attention_mask': test_attention_mask},\n",
        "    test_labels\n",
        "))\n",
        "test_dataset = test_dataset.batch(16)"
      ],
      "metadata": {
        "id": "kiqfqE0WmfXN"
      },
      "id": "kiqfqE0WmfXN",
      "execution_count": 37,
      "outputs": []
    },
    {
      "cell_type": "code",
      "source": [
        "y_pred_classes = np.argmax(y_pred, axis=1)"
      ],
      "metadata": {
        "id": "EpM6vY5VpubE"
      },
      "id": "EpM6vY5VpubE",
      "execution_count": 45,
      "outputs": []
    },
    {
      "cell_type": "code",
      "source": [
        "label_mapping = {'negative': 0, 'neutral': 1, 'positive': 2}\n",
        "test_scores_numerical = [label_mapping[label] for label in test_scores]\n",
        ""
      ],
      "metadata": {
        "id": "M800MeuUozCs"
      },
      "id": "M800MeuUozCs",
      "execution_count": 40,
      "outputs": []
    },
    {
      "cell_type": "code",
      "source": [
        "print(\"\\nDetailed Classification Report:\")\n",
        "print(classification_report(test_scores_numerical, y_pred_classes))\n",
        "\n",
        "plt.figure(figsize=(8,6))\n",
        "cm = confusion_matrix(test_scores_numerical, y_pred_classes)\n",
        "sns.heatmap(cm, annot=True, fmt='d', cmap='Blues',\n",
        "            xticklabels=['Negative', 'Neutral', 'Positive'],\n",
        "            yticklabels=['Negative', 'Neutral', 'Positive'])\n",
        "plt.xlabel('Predicted')\n",
        "plt.ylabel('Actual')\n",
        "plt.title('Confusion Matrix')\n",
        "plt.show()"
      ],
      "metadata": {
        "colab": {
          "base_uri": "https://localhost:8080/",
          "height": 772
        },
        "id": "jKV0sPt5ljbd",
        "outputId": "e57f790b-0705-4f63-f330-c3f337b5b8ce"
      },
      "id": "jKV0sPt5ljbd",
      "execution_count": 50,
      "outputs": [
        {
          "output_type": "stream",
          "name": "stdout",
          "text": [
            "\n",
            "Detailed Classification Report:\n",
            "              precision    recall  f1-score   support\n",
            "\n",
            "           0       0.85      0.81      0.83     56351\n",
            "           1       0.58      0.54      0.56     39689\n",
            "           2       0.92      0.95      0.93    200004\n",
            "\n",
            "    accuracy                           0.86    296044\n",
            "   macro avg       0.78      0.76      0.77    296044\n",
            "weighted avg       0.86      0.86      0.86    296044\n",
            "\n"
          ]
        },
        {
          "output_type": "display_data",
          "data": {
            "text/plain": [
              "<Figure size 800x600 with 2 Axes>"
            ],
            "image/png": "[encoded data removed]"
          },
          "metadata": {}
        }
      ]
    },
    {
      "cell_type": "code",
      "execution_count": null,
      "id": "d9d4df47-5ff3-4b66-95be-50ca2769ce5e",
      "metadata": {
        "id": "d9d4df47-5ff3-4b66-95be-50ca2769ce5e"
      },
      "outputs": [],
      "source": []
    },
    {
      "cell_type": "code",
      "execution_count": null,
      "id": "58de3415-1d64-45ca-9c10-a632df3e1a2c",
      "metadata": {
        "id": "58de3415-1d64-45ca-9c10-a632df3e1a2c"
      },
      "outputs": [],
      "source": []
    }
  ],
  "metadata": {
    "kernelspec": {
      "display_name": "Python [conda env:base] *",
      "language": "python",
      "name": "conda-base-py"
    },
    "language_info": {
      "codemirror_mode": {
        "name": "ipython",
        "version": 3
      },
      "file_extension": ".py",
      "mimetype": "text/x-python",
      "name": "python",
      "nbconvert_exporter": "python",
      "pygments_lexer": "ipython3",
      "version": "3.12.7"
    },
    "colab": {
      "provenance": [],
      "machine_shape": "hm",
      "gpuType": "A100",
      "include_colab_link": true
    },
    "accelerator": "GPU"
  },
  "nbformat": 4,
  "nbformat_minor": 5
}
