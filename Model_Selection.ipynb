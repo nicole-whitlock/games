{
  "cells": [
    {
      "cell_type": "markdown",
      "metadata": {
        "id": "view-in-github",
        "colab_type": "text"
      },
      "source": [
        "<a href=\"https://colab.research.google.com/github/nicole-whitlock/games/blob/main/Model_Selection.ipynb\" target=\"_parent\"><img src=\"https://colab.research.google.com/assets/colab-badge.svg\" alt=\"Open In Colab\"/></a>"
      ]
    },
    {
      "cell_type": "code",
      "source": [
        "\n",
        "import pandas as pd\n",
        "from langdetect import detect, DetectorFactory\n",
        "import kagglehub\n",
        "import os\n",
        "from google.colab import drive\n",
        "import string\n",
        "import nltk\n",
        "from nltk.corpus import stopwords\n",
        "from nltk.stem import WordNetLemmatizer\n",
        "nltk.download('stopwords')\n",
        "nltk.download('wordnet')\n",
        "import numpy as np\n",
        "from sklearn.model_selection import train_test_split\n",
        "from sklearn.feature_extraction.text import TfidfVectorizer\n",
        "from sklearn.linear_model import LogisticRegression\n",
        "from sklearn.ensemble import RandomForestClassifier\n",
        "from sklearn.metrics import accuracy_score\n",
        "from time import time\n",
        "from sklearn.metrics import classification_report\n",
        "from tqdm import tqdm\n",
        "from sklearn.svm import LinearSVC\n",
        "from sklearn.naive_bayes import MultinomialNB\n",
        "\n",
        "DetectorFactory.seed = 0"
      ],
      "metadata": {
        "colab": {
          "base_uri": "https://localhost:8080/"
        },
        "id": "YniSUSqorBZU",
        "outputId": "d89ade8c-3bc0-40ee-a0a8-ba0bef25bf06"
      },
      "execution_count": 1,
      "outputs": [
        {
          "output_type": "stream",
          "name": "stderr",
          "text": [
            "[nltk_data] Downloading package stopwords to /root/nltk_data...\n",
            "[nltk_data]   Package stopwords is already up-to-date!\n",
            "[nltk_data] Downloading package wordnet to /root/nltk_data...\n",
            "[nltk_data]   Package wordnet is already up-to-date!\n"
          ]
        }
      ]
    },
    {
      "cell_type": "code",
      "source": [
        "df = pd.read_csv('/content/metacritic_english_reviews.csv')"
      ],
      "metadata": {
        "id": "vR0T6B3_vxYc"
      },
      "execution_count": 2,
      "outputs": []
    },
    {
      "cell_type": "markdown",
      "source": [],
      "metadata": {
        "id": "csnkJkDNXYxK"
      }
    },
    {
      "cell_type": "code",
      "source": [
        "def preprocess_text(text):\n",
        "    if pd.isna(text):\n",
        "        return \"\"\n",
        "    # Convert to lowercase\n",
        "    text = text.lower()\n",
        "    # Remove punctuation\n",
        "    text = ''.join([char for char in text if char not in string.punctuation])\n",
        "    # Tokenize\n",
        "    words = text.split()\n",
        "    # Remove stopwords\n",
        "    stop_words = set(stopwords.words('english'))\n",
        "    words = [word for word in words if word not in stop_words]\n",
        "    # Lemmatization\n",
        "    lemmatizer = WordNetLemmatizer()\n",
        "    words = [lemmatizer.lemmatize(word) for word in words]\n",
        "    return ' '.join(words)\n",
        "\n",
        "print(\"\\nPreprocessing text...\")\n",
        "df['processed_text'] = df['quote'].apply(preprocess_text)"
      ],
      "metadata": {
        "colab": {
          "base_uri": "https://localhost:8080/"
        },
        "id": "ALhiTElLnwL2",
        "outputId": "b8d20bde-be68-4ebb-c758-24b2b32ea76f"
      },
      "execution_count": 3,
      "outputs": [
        {
          "output_type": "stream",
          "name": "stdout",
          "text": [
            "\n",
            "Preprocessing text...\n"
          ]
        }
      ]
    },
    {
      "cell_type": "code",
      "source": [
        "df.to_csv('/content/processed_english_reviews.csv', index=False)"
      ],
      "metadata": {
        "id": "dw6xDz84XR39"
      },
      "execution_count": 5,
      "outputs": []
    },
    {
      "cell_type": "markdown",
      "source": [
        "Turning the score column (0-100) into sentiment categories"
      ],
      "metadata": {
        "id": "VivqOwyFaXjY"
      }
    },
    {
      "cell_type": "code",
      "source": [
        "# Create 3 sentiment categories\n",
        "df['sentiment'] = np.where(\n",
        "    df['score'] >= 70, 'positive',\n",
        "    np.where(df['score'] <= 40, 'negative', 'neutral')\n",
        ")"
      ],
      "metadata": {
        "id": "Zvra7qH3rWQY"
      },
      "execution_count": 6,
      "outputs": []
    },
    {
      "cell_type": "code",
      "source": [
        "df = df.dropna(subset=['score'])"
      ],
      "metadata": {
        "id": "Cx2jAlBxbmTp"
      },
      "execution_count": 11,
      "outputs": []
    },
    {
      "cell_type": "code",
      "source": [
        "subset_df, _ = train_test_split(df,\n",
        "                                train_size=0.1,\n",
        "                                stratify=df['score'],\n",
        "                                random_state=42)\n"
      ],
      "metadata": {
        "id": "B80qOGZHWeLl"
      },
      "execution_count": 12,
      "outputs": []
    },
    {
      "cell_type": "code",
      "source": [
        "# Train-Test Split\n",
        "X = subset_df['processed_text']\n",
        "y = subset_df['sentiment']\n",
        "X_train, X_test, y_train, y_test = train_test_split(\n",
        "    X, y,\n",
        "    test_size=0.2,\n",
        "    random_state=42,\n",
        "    stratify=y  # Preserve class distribution\n",
        ")\n",
        "\n",
        "print(f\"\\nTraining samples: {len(X_train)}\")\n",
        "print(f\"Test samples: {len(X_test)}\")\n",
        "print(\"\\nVectorizing text data...\")\n",
        "vectorizer = TfidfVectorizer(\n",
        "    max_features=10000,\n",
        "    ngram_range=(1, 2),  # Use unigrams and bigrams\n",
        "    min_df=5,            # Ignore rare terms\n",
        "    max_df=0.7           # Ignore overly common terms\n",
        ")\n",
        "X_train_vec = vectorizer.fit_transform(X_train)\n",
        "X_test_vec = vectorizer.transform(X_test)"
      ],
      "metadata": {
        "colab": {
          "base_uri": "https://localhost:8080/"
        },
        "id": "xCUqGlV-nwCL",
        "outputId": "ace11d0d-f0b2-4e2e-d4d4-3261a1a67d55"
      },
      "execution_count": 13,
      "outputs": [
        {
          "output_type": "stream",
          "name": "stdout",
          "text": [
            "\n",
            "Training samples: 118417\n",
            "Test samples: 29605\n",
            "\n",
            "Vectorizing text data...\n"
          ]
        }
      ]
    },
    {
      "cell_type": "code",
      "source": [
        "def evaluate_model(model_name, model, X_train, X_test, y_train, y_test):\n",
        "    # Time training\n",
        "    start_time = time()\n",
        "    model.fit(X_train, y_train)\n",
        "    train_time = time() - start_time\n",
        "\n",
        "    # Predict and evaluate\n",
        "    start_time = time()\n",
        "    y_pred = model.predict(X_test)\n",
        "    inference_time = time() - start_time\n",
        "\n",
        "    # Calculate metrics\n",
        "    accuracy = accuracy_score(y_test, y_pred)\n",
        "\n",
        "    # Print results\n",
        "    print(f\"\\n{model_name} Results:\")\n",
        "    print(f\"Accuracy: {accuracy:.4f}\")\n",
        "    print(f\"Training time: {train_time:.2f} seconds\")\n",
        "    print(f\"Inference time: {inference_time:.2f} seconds\")\n",
        "    print(\"\\nClassification Report:\")\n",
        "    print(classification_report(y_test, y_pred))\n",
        "\n",
        "    return {\n",
        "        'model': model_name,\n",
        "        'accuracy': accuracy,\n",
        "        'train_time': train_time,\n",
        "        'inference_time': inference_time\n",
        "    }"
      ],
      "metadata": {
        "id": "PmP2GrW5uXji"
      },
      "execution_count": 14,
      "outputs": []
    },
    {
      "cell_type": "code",
      "source": [
        "# Dictionary to store results\n",
        "results = []\n",
        "\n",
        "# Logistic Regression\n",
        "lr_model = LogisticRegression(max_iter=1000, C=1.0)\n",
        "lr_results = evaluate_model(\"Logistic Regression\", lr_model,\n",
        "                           X_train_vec, X_test_vec,\n",
        "                           y_train, y_test)\n",
        "results.append(lr_results)\n",
        "\n",
        "# Random Forest\n",
        "rf_model = RandomForestClassifier(n_estimators=100, random_state=42)\n",
        "rf_results = evaluate_model(\"Random Forest\", rf_model,\n",
        "                           X_train_vec, X_test_vec,\n",
        "                           y_train, y_test)\n",
        "results.append(rf_results)\n",
        "\n",
        "# Support Vector Machine\n",
        "svm_model = LinearSVC(C=1.0)\n",
        "svm_results = evaluate_model(\"Linear SVM\", svm_model,\n",
        "\n",
        "                             X_train_vec, X_test_vec,\n",
        "                           y_train, y_test)\n",
        "results.append(svm_results)\n",
        "\n",
        "# Naive Bayes\n",
        "nb_model = MultinomialNB()\n",
        "nb_results = evaluate_model(\"Naive Bayes\", nb_model,\n",
        "                           X_train_vec, X_test_vec,\n",
        "                           y_train, y_test)\n",
        "results.append(nb_results)\n"
      ],
      "metadata": {
        "colab": {
          "base_uri": "https://localhost:8080/"
        },
        "id": "LHUzQ8RirmI7",
        "outputId": "9ec9d986-7e0e-4d59-a7b8-1424e62c8e77"
      },
      "execution_count": 15,
      "outputs": [
        {
          "output_type": "stream",
          "name": "stdout",
          "text": [
            "\n",
            "Logistic Regression Results:\n",
            "Accuracy: 0.8165\n",
            "Training time: 21.61 seconds\n",
            "Inference time: 0.02 seconds\n",
            "\n",
            "Classification Report:\n",
            "              precision    recall  f1-score   support\n",
            "\n",
            "    negative       0.79      0.72      0.75      5628\n",
            "     neutral       0.52      0.26      0.35      3938\n",
            "    positive       0.85      0.95      0.90     20039\n",
            "\n",
            "    accuracy                           0.82     29605\n",
            "   macro avg       0.72      0.64      0.67     29605\n",
            "weighted avg       0.79      0.82      0.80     29605\n",
            "\n",
            "\n",
            "Random Forest Results:\n",
            "Accuracy: 0.7822\n",
            "Training time: 621.23 seconds\n",
            "Inference time: 3.21 seconds\n",
            "\n",
            "Classification Report:\n",
            "              precision    recall  f1-score   support\n",
            "\n",
            "    negative       0.79      0.61      0.69      5628\n",
            "     neutral       0.55      0.05      0.09      3938\n",
            "    positive       0.78      0.98      0.87     20039\n",
            "\n",
            "    accuracy                           0.78     29605\n",
            "   macro avg       0.71      0.54      0.55     29605\n",
            "weighted avg       0.75      0.78      0.73     29605\n",
            "\n",
            "\n",
            "Linear SVM Results:\n",
            "Accuracy: 0.8107\n",
            "Training time: 9.63 seconds\n",
            "Inference time: 0.01 seconds\n",
            "\n",
            "Classification Report:\n",
            "              precision    recall  f1-score   support\n",
            "\n",
            "    negative       0.76      0.73      0.74      5628\n",
            "     neutral       0.50      0.25      0.33      3938\n",
            "    positive       0.85      0.94      0.90     20039\n",
            "\n",
            "    accuracy                           0.81     29605\n",
            "   macro avg       0.70      0.64      0.66     29605\n",
            "weighted avg       0.79      0.81      0.79     29605\n",
            "\n",
            "\n",
            "Naive Bayes Results:\n",
            "Accuracy: 0.7909\n",
            "Training time: 0.59 seconds\n",
            "Inference time: 0.01 seconds\n",
            "\n",
            "Classification Report:\n",
            "              precision    recall  f1-score   support\n",
            "\n",
            "    negative       0.81      0.63      0.71      5628\n",
            "     neutral       0.52      0.06      0.11      3938\n",
            "    positive       0.79      0.98      0.88     20039\n",
            "\n",
            "    accuracy                           0.79     29605\n",
            "   macro avg       0.71      0.56      0.57     29605\n",
            "weighted avg       0.76      0.79      0.74     29605\n",
            "\n"
          ]
        }
      ]
    },
    {
      "cell_type": "code",
      "source": [
        "import matplotlib.pyplot as plt\n",
        "\n",
        "# Accuracy comparison\n",
        "plt.figure(figsize=(10, 6))\n",
        "model_names = [result['model'] for result in results]\n",
        "accuracies = [result['accuracy'] for result in results]\n",
        "\n",
        "plt.bar(model_names, accuracies)\n",
        "plt.title('Model Accuracy Comparison')\n",
        "plt.ylabel('Accuracy')\n",
        "plt.ylim(0, 1)\n",
        "for i, v in enumerate(accuracies):\n",
        "    plt.text(i, v+0.01, f\"{v:.4f}\", ha='center')\n",
        "plt.grid(axis='y', alpha=0.3)\n",
        "plt.show()\n",
        "\n",
        "# Training time comparison (log scale for better visualization)\n",
        "plt.figure(figsize=(10, 6))\n",
        "train_times = [result['train_time'] for result in results]\n",
        "plt.bar(model_names, train_times)\n",
        "plt.title('Training Time Comparison (log scale)')\n",
        "plt.yscale('log')\n",
        "plt.ylabel('Training time (seconds)')\n",
        "for i, v in enumerate(train_times):\n",
        "    plt.text(i, v*1.1, f\"{v:.2f}s\", ha='center')\n",
        "plt.grid(axis='y', alpha=0.3)\n",
        "plt.show()"
      ],
      "metadata": {
        "colab": {
          "base_uri": "https://localhost:8080/",
          "height": 1000
        },
        "id": "aACiXrfor51n",
        "outputId": "f73959b6-fe0a-4a65-e280-f3be0943c1e7"
      },
      "execution_count": 16,
      "outputs": [
        {
          "output_type": "display_data",
          "data": {
            "text/plain": [
              "<Figure size 1000x600 with 1 Axes>"
            ],
            "image/png": "[encoded data removed]"
          },
          "metadata": {}
        },
        {
          "output_type": "display_data",
          "data": {
            "text/plain": [
              "<Figure size 1000x600 with 1 Axes>"
            ],
            "image/png": "[encoded data removed]"
          },
          "metadata": {}
        }
      ]
    }
  ],
  "metadata": {
    "colab": {
      "provenance": [],
      "machine_shape": "hm",
      "gpuType": "A100",
      "mount_file_id": "15WChLa1Npe9FoO2rsLcR1YnV_JrprkM9",
      "authorship_tag": "ABX9TyPzN6ceaiGudqIkaME6queJ",
      "include_colab_link": true
    },
    "kernelspec": {
      "display_name": "Python 3",
      "name": "python3"
    },
    "language_info": {
      "name": "python"
    },
    "accelerator": "GPU"
  },
  "nbformat": 4,
  "nbformat_minor": 0
}